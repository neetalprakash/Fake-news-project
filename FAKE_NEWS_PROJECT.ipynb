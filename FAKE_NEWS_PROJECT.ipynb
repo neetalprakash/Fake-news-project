{
 "cells": [
  {
   "cell_type": "markdown",
   "id": "1d7ef06d",
   "metadata": {},
   "source": [
    "# FAKE NEWS PROJECT"
   ]
  },
  {
   "cell_type": "markdown",
   "id": "31f64c75",
   "metadata": {},
   "source": [
    "Loading modules"
   ]
  },
  {
   "cell_type": "code",
   "execution_count": 1,
   "id": "ae685bb4",
   "metadata": {},
   "outputs": [],
   "source": [
    "import pandas as pd\n",
    "import numpy as np\n",
    "import matplotlib.pyplot as plt\n",
    "import seaborn as sns \n",
    "from sklearn.feature_extraction.text import CountVectorizer\n",
    "from sklearn.feature_extraction.text import TfidfTransformer\n",
    "from sklearn import feature_extraction, linear_model, model_selection, preprocessing\n",
    "from sklearn.metrics import accuracy_score\n",
    "from sklearn.model_selection import train_test_split\n",
    "from sklearn.pipeline import Pipeline"
   ]
  },
  {
   "cell_type": "markdown",
   "id": "db9d3632",
   "metadata": {},
   "source": [
    "Loading the Dataset"
   ]
  },
  {
   "cell_type": "code",
   "execution_count": 2,
   "id": "a7fbb49d",
   "metadata": {},
   "outputs": [],
   "source": [
    "fake=pd.read_csv(\"Fake.tsv\",sep=\"\\t\",low_memory=False)"
   ]
  },
  {
   "cell_type": "code",
   "execution_count": 3,
   "id": "f072cb71",
   "metadata": {},
   "outputs": [
    {
     "data": {
      "text/html": [
       "<div>\n",
       "<style scoped>\n",
       "    .dataframe tbody tr th:only-of-type {\n",
       "        vertical-align: middle;\n",
       "    }\n",
       "\n",
       "    .dataframe tbody tr th {\n",
       "        vertical-align: top;\n",
       "    }\n",
       "\n",
       "    .dataframe thead th {\n",
       "        text-align: right;\n",
       "    }\n",
       "</style>\n",
       "<table border=\"1\" class=\"dataframe\">\n",
       "  <thead>\n",
       "    <tr style=\"text-align: right;\">\n",
       "      <th></th>\n",
       "      <th>title</th>\n",
       "      <th>text</th>\n",
       "      <th>subject</th>\n",
       "      <th>date</th>\n",
       "      <th>Unnamed: 4</th>\n",
       "      <th>Unnamed: 5</th>\n",
       "      <th>Unnamed: 6</th>\n",
       "      <th>Unnamed: 7</th>\n",
       "      <th>Unnamed: 8</th>\n",
       "      <th>Unnamed: 9</th>\n",
       "      <th>...</th>\n",
       "      <th>Unnamed: 162</th>\n",
       "      <th>Unnamed: 163</th>\n",
       "      <th>Unnamed: 164</th>\n",
       "      <th>Unnamed: 165</th>\n",
       "      <th>Unnamed: 166</th>\n",
       "      <th>Unnamed: 167</th>\n",
       "      <th>Unnamed: 168</th>\n",
       "      <th>Unnamed: 169</th>\n",
       "      <th>Unnamed: 170</th>\n",
       "      <th>Unnamed: 171</th>\n",
       "    </tr>\n",
       "  </thead>\n",
       "  <tbody>\n",
       "    <tr>\n",
       "      <th>0</th>\n",
       "      <td>Donald Trump Sends Out Embarrassing New Yearâ...</td>\n",
       "      <td>Donald Trump just couldn t wish all Americans ...</td>\n",
       "      <td>News</td>\n",
       "      <td>December 31, 2017</td>\n",
       "      <td>NaN</td>\n",
       "      <td>NaN</td>\n",
       "      <td>NaN</td>\n",
       "      <td>NaN</td>\n",
       "      <td>NaN</td>\n",
       "      <td>NaN</td>\n",
       "      <td>...</td>\n",
       "      <td>NaN</td>\n",
       "      <td>NaN</td>\n",
       "      <td>NaN</td>\n",
       "      <td>NaN</td>\n",
       "      <td>NaN</td>\n",
       "      <td>NaN</td>\n",
       "      <td>NaN</td>\n",
       "      <td>NaN</td>\n",
       "      <td>NaN</td>\n",
       "      <td>NaN</td>\n",
       "    </tr>\n",
       "    <tr>\n",
       "      <th>1</th>\n",
       "      <td>Drunk Bragging Trump Staffer Started Russian ...</td>\n",
       "      <td>House Intelligence Committee Chairman Devin Nu...</td>\n",
       "      <td>News</td>\n",
       "      <td>December 31, 2017</td>\n",
       "      <td>NaN</td>\n",
       "      <td>NaN</td>\n",
       "      <td>NaN</td>\n",
       "      <td>NaN</td>\n",
       "      <td>NaN</td>\n",
       "      <td>NaN</td>\n",
       "      <td>...</td>\n",
       "      <td>NaN</td>\n",
       "      <td>NaN</td>\n",
       "      <td>NaN</td>\n",
       "      <td>NaN</td>\n",
       "      <td>NaN</td>\n",
       "      <td>NaN</td>\n",
       "      <td>NaN</td>\n",
       "      <td>NaN</td>\n",
       "      <td>NaN</td>\n",
       "      <td>NaN</td>\n",
       "    </tr>\n",
       "    <tr>\n",
       "      <th>2</th>\n",
       "      <td>Sheriff David Clarke Becomes An Internet Joke...</td>\n",
       "      <td>On Friday, it was revealed that former Milwauk...</td>\n",
       "      <td>News</td>\n",
       "      <td>December 30, 2017</td>\n",
       "      <td>NaN</td>\n",
       "      <td>NaN</td>\n",
       "      <td>NaN</td>\n",
       "      <td>NaN</td>\n",
       "      <td>NaN</td>\n",
       "      <td>NaN</td>\n",
       "      <td>...</td>\n",
       "      <td>NaN</td>\n",
       "      <td>NaN</td>\n",
       "      <td>NaN</td>\n",
       "      <td>NaN</td>\n",
       "      <td>NaN</td>\n",
       "      <td>NaN</td>\n",
       "      <td>NaN</td>\n",
       "      <td>NaN</td>\n",
       "      <td>NaN</td>\n",
       "      <td>NaN</td>\n",
       "    </tr>\n",
       "    <tr>\n",
       "      <th>3</th>\n",
       "      <td>Trump Is So Obsessed He Even Has Obamaâ€™s Na...</td>\n",
       "      <td>On Christmas day, Donald Trump announced that ...</td>\n",
       "      <td>News</td>\n",
       "      <td>December 29, 2017</td>\n",
       "      <td>NaN</td>\n",
       "      <td>NaN</td>\n",
       "      <td>NaN</td>\n",
       "      <td>NaN</td>\n",
       "      <td>NaN</td>\n",
       "      <td>NaN</td>\n",
       "      <td>...</td>\n",
       "      <td>NaN</td>\n",
       "      <td>NaN</td>\n",
       "      <td>NaN</td>\n",
       "      <td>NaN</td>\n",
       "      <td>NaN</td>\n",
       "      <td>NaN</td>\n",
       "      <td>NaN</td>\n",
       "      <td>NaN</td>\n",
       "      <td>NaN</td>\n",
       "      <td>NaN</td>\n",
       "    </tr>\n",
       "    <tr>\n",
       "      <th>4</th>\n",
       "      <td>Pope Francis Just Called Out Donald Trump Dur...</td>\n",
       "      <td>Pope Francis used his annual Christmas Day mes...</td>\n",
       "      <td>News</td>\n",
       "      <td>December 25, 2017</td>\n",
       "      <td>NaN</td>\n",
       "      <td>NaN</td>\n",
       "      <td>NaN</td>\n",
       "      <td>NaN</td>\n",
       "      <td>NaN</td>\n",
       "      <td>NaN</td>\n",
       "      <td>...</td>\n",
       "      <td>NaN</td>\n",
       "      <td>NaN</td>\n",
       "      <td>NaN</td>\n",
       "      <td>NaN</td>\n",
       "      <td>NaN</td>\n",
       "      <td>NaN</td>\n",
       "      <td>NaN</td>\n",
       "      <td>NaN</td>\n",
       "      <td>NaN</td>\n",
       "      <td>NaN</td>\n",
       "    </tr>\n",
       "  </tbody>\n",
       "</table>\n",
       "<p>5 rows × 172 columns</p>\n",
       "</div>"
      ],
      "text/plain": [
       "                                               title  \\\n",
       "0   Donald Trump Sends Out Embarrassing New Yearâ...   \n",
       "1   Drunk Bragging Trump Staffer Started Russian ...   \n",
       "2   Sheriff David Clarke Becomes An Internet Joke...   \n",
       "3   Trump Is So Obsessed He Even Has Obamaâ€™s Na...   \n",
       "4   Pope Francis Just Called Out Donald Trump Dur...   \n",
       "\n",
       "                                                text subject  \\\n",
       "0  Donald Trump just couldn t wish all Americans ...    News   \n",
       "1  House Intelligence Committee Chairman Devin Nu...    News   \n",
       "2  On Friday, it was revealed that former Milwauk...    News   \n",
       "3  On Christmas day, Donald Trump announced that ...    News   \n",
       "4  Pope Francis used his annual Christmas Day mes...    News   \n",
       "\n",
       "                date Unnamed: 4 Unnamed: 5 Unnamed: 6 Unnamed: 7 Unnamed: 8  \\\n",
       "0  December 31, 2017        NaN        NaN        NaN        NaN        NaN   \n",
       "1  December 31, 2017        NaN        NaN        NaN        NaN        NaN   \n",
       "2  December 30, 2017        NaN        NaN        NaN        NaN        NaN   \n",
       "3  December 29, 2017        NaN        NaN        NaN        NaN        NaN   \n",
       "4  December 25, 2017        NaN        NaN        NaN        NaN        NaN   \n",
       "\n",
       "  Unnamed: 9  ... Unnamed: 162 Unnamed: 163 Unnamed: 164 Unnamed: 165  \\\n",
       "0        NaN  ...          NaN          NaN          NaN          NaN   \n",
       "1        NaN  ...          NaN          NaN          NaN          NaN   \n",
       "2        NaN  ...          NaN          NaN          NaN          NaN   \n",
       "3        NaN  ...          NaN          NaN          NaN          NaN   \n",
       "4        NaN  ...          NaN          NaN          NaN          NaN   \n",
       "\n",
       "  Unnamed: 166 Unnamed: 167 Unnamed: 168 Unnamed: 169 Unnamed: 170  \\\n",
       "0          NaN          NaN          NaN          NaN          NaN   \n",
       "1          NaN          NaN          NaN          NaN          NaN   \n",
       "2          NaN          NaN          NaN          NaN          NaN   \n",
       "3          NaN          NaN          NaN          NaN          NaN   \n",
       "4          NaN          NaN          NaN          NaN          NaN   \n",
       "\n",
       "  Unnamed: 171  \n",
       "0          NaN  \n",
       "1          NaN  \n",
       "2          NaN  \n",
       "3          NaN  \n",
       "4          NaN  \n",
       "\n",
       "[5 rows x 172 columns]"
      ]
     },
     "execution_count": 3,
     "metadata": {},
     "output_type": "execute_result"
    }
   ],
   "source": [
    "fake.head()"
   ]
  },
  {
   "cell_type": "markdown",
   "id": "d31866b4",
   "metadata": {},
   "source": [
    "In Fake news dataset Unnamed 4 to Unnamed 171 columns are nan so we have to drop these columns."
   ]
  },
  {
   "cell_type": "code",
   "execution_count": 4,
   "id": "f856d737",
   "metadata": {},
   "outputs": [],
   "source": [
    "fake2=fake.drop([\"Unnamed: 4\",\"Unnamed: 5\",\"Unnamed: 6\",\"Unnamed: 7\",\"Unnamed: 8\",\"Unnamed: 9\",\"Unnamed: 10\",\"Unnamed: 11\"\n",
    "                ,\"Unnamed: 12\",\"Unnamed: 13\",\"Unnamed: 14\",\"Unnamed: 15\",\"Unnamed: 16\",\"Unnamed: 17\",\"Unnamed: 18\",\"Unnamed: 19\",\n",
    "                \"Unnamed: 20\",\"Unnamed: 21\",\"Unnamed: 22\",\"Unnamed: 23\",\"Unnamed: 24\",\"Unnamed: 25\",\"Unnamed: 26\",\"Unnamed: 27\",\n",
    "                \"Unnamed: 28\",\"Unnamed: 29\",\"Unnamed: 30\",\"Unnamed: 31\",\"Unnamed: 32\",\"Unnamed: 33\",\"Unnamed: 34\",\"Unnamed: 35\",\"Unnamed: 36\",\n",
    "                \"Unnamed: 37\",\"Unnamed: 38\",\"Unnamed: 39\",\"Unnamed: 40\",\"Unnamed: 41\",\"Unnamed: 42\",\"Unnamed: 43\",\"Unnamed: 44\",\"Unnamed: 45\",\n",
    "                \"Unnamed: 46\",\"Unnamed: 47\",\"Unnamed: 48\",\"Unnamed: 49\",\"Unnamed: 50\",\"Unnamed: 51\",\"Unnamed: 52\",\"Unnamed: 53\",\"Unnamed: 54\",\n",
    "                \"Unnamed: 55\",'Unnamed: 56','Unnamed: 57',\"Unnamed: 58\",\"Unnamed: 59\",\"Unnamed: 60\",\"Unnamed: 61\",\"Unnamed: 62\",\"Unnamed: 63\",\n",
    "                \"Unnamed: 64\",\"Unnamed: 65\",\"Unnamed: 66\",\"Unnamed: 67\",\"Unnamed: 68\",\"Unnamed: 69\",\"Unnamed: 70\",\"Unnamed: 71\",\"Unnamed: 72\",\n",
    "                \"Unnamed: 73\",\"Unnamed: 74\",\"Unnamed: 75\",\"Unnamed: 76\",\"Unnamed: 77\",\"Unnamed: 78\",\"Unnamed: 79\",\"Unnamed: 80\",\"Unnamed: 81\",\n",
    "                \"Unnamed: 82\",\"Unnamed: 83\",\"Unnamed: 84\",\"Unnamed: 85\",\"Unnamed: 86\",\"Unnamed: 87\",\"Unnamed: 88\",\"Unnamed: 89\",\"Unnamed: 90\",\n",
    "                \"Unnamed: 91\",\"Unnamed: 92\",\"Unnamed: 93\",\"Unnamed: 94\",\"Unnamed: 95\",\"Unnamed: 96\",\"Unnamed: 97\",\"Unnamed: 98\",\"Unnamed: 99\",\n",
    "                \"Unnamed: 100\",\"Unnamed: 101\",\"Unnamed: 102\",\"Unnamed: 103\",\"Unnamed: 104\",\"Unnamed: 105\",\"Unnamed: 106\",\"Unnamed: 107\",\"Unnamed: 108\",\n",
    "                \"Unnamed: 109\",\"Unnamed: 110\",\"Unnamed: 111\",\"Unnamed: 112\",\"Unnamed: 113\",\"Unnamed: 114\",\"Unnamed: 115\",\"Unnamed: 116\",\"Unnamed: 117\",\"Unnamed: 118\",\n",
    "                \"Unnamed: 119\",\"Unnamed: 120\",\"Unnamed: 121\",\"Unnamed: 122\",\"Unnamed: 123\",\"Unnamed: 124\",\"Unnamed: 125\",\"Unnamed: 126\",\"Unnamed: 127\",\n",
    "                \"Unnamed: 128\",\"Unnamed: 129\",\"Unnamed: 130\",\"Unnamed: 131\",\"Unnamed: 132\",\"Unnamed: 133\",\"Unnamed: 134\",\"Unnamed: 135\",\"Unnamed: 136\",\n",
    "                \"Unnamed: 137\",\"Unnamed: 138\",\"Unnamed: 139\",\"Unnamed: 140\",\"Unnamed: 141\",\"Unnamed: 142\",\"Unnamed: 143\",\"Unnamed: 144\",\"Unnamed: 145\",\n",
    "                \"Unnamed: 146\",\"Unnamed: 147\",\"Unnamed: 148\",\"Unnamed: 149\",\"Unnamed: 150\",\"Unnamed: 151\",\"Unnamed: 152\",\"Unnamed: 153\",\"Unnamed: 154\",\n",
    "                \"Unnamed: 155\",\"Unnamed: 156\",\"Unnamed: 157\",\"Unnamed: 158\",\"Unnamed: 159\",\"Unnamed: 160\",\"Unnamed: 161\",\"Unnamed: 162\",\n",
    "                \"Unnamed: 163\",\"Unnamed: 164\",\"Unnamed: 165\",\"Unnamed: 166\",\"Unnamed: 167\",\"Unnamed: 168\",\"Unnamed: 169\",\"Unnamed: 170\",\n",
    "                \"Unnamed: 171\"],axis=1)"
   ]
  },
  {
   "cell_type": "code",
   "execution_count": 5,
   "id": "d2a4395b",
   "metadata": {},
   "outputs": [
    {
     "data": {
      "text/html": [
       "<div>\n",
       "<style scoped>\n",
       "    .dataframe tbody tr th:only-of-type {\n",
       "        vertical-align: middle;\n",
       "    }\n",
       "\n",
       "    .dataframe tbody tr th {\n",
       "        vertical-align: top;\n",
       "    }\n",
       "\n",
       "    .dataframe thead th {\n",
       "        text-align: right;\n",
       "    }\n",
       "</style>\n",
       "<table border=\"1\" class=\"dataframe\">\n",
       "  <thead>\n",
       "    <tr style=\"text-align: right;\">\n",
       "      <th></th>\n",
       "      <th>title</th>\n",
       "      <th>text</th>\n",
       "      <th>subject</th>\n",
       "      <th>date</th>\n",
       "    </tr>\n",
       "  </thead>\n",
       "  <tbody>\n",
       "    <tr>\n",
       "      <th>0</th>\n",
       "      <td>Donald Trump Sends Out Embarrassing New Yearâ...</td>\n",
       "      <td>Donald Trump just couldn t wish all Americans ...</td>\n",
       "      <td>News</td>\n",
       "      <td>December 31, 2017</td>\n",
       "    </tr>\n",
       "    <tr>\n",
       "      <th>1</th>\n",
       "      <td>Drunk Bragging Trump Staffer Started Russian ...</td>\n",
       "      <td>House Intelligence Committee Chairman Devin Nu...</td>\n",
       "      <td>News</td>\n",
       "      <td>December 31, 2017</td>\n",
       "    </tr>\n",
       "    <tr>\n",
       "      <th>2</th>\n",
       "      <td>Sheriff David Clarke Becomes An Internet Joke...</td>\n",
       "      <td>On Friday, it was revealed that former Milwauk...</td>\n",
       "      <td>News</td>\n",
       "      <td>December 30, 2017</td>\n",
       "    </tr>\n",
       "    <tr>\n",
       "      <th>3</th>\n",
       "      <td>Trump Is So Obsessed He Even Has Obamaâ€™s Na...</td>\n",
       "      <td>On Christmas day, Donald Trump announced that ...</td>\n",
       "      <td>News</td>\n",
       "      <td>December 29, 2017</td>\n",
       "    </tr>\n",
       "    <tr>\n",
       "      <th>4</th>\n",
       "      <td>Pope Francis Just Called Out Donald Trump Dur...</td>\n",
       "      <td>Pope Francis used his annual Christmas Day mes...</td>\n",
       "      <td>News</td>\n",
       "      <td>December 25, 2017</td>\n",
       "    </tr>\n",
       "  </tbody>\n",
       "</table>\n",
       "</div>"
      ],
      "text/plain": [
       "                                               title  \\\n",
       "0   Donald Trump Sends Out Embarrassing New Yearâ...   \n",
       "1   Drunk Bragging Trump Staffer Started Russian ...   \n",
       "2   Sheriff David Clarke Becomes An Internet Joke...   \n",
       "3   Trump Is So Obsessed He Even Has Obamaâ€™s Na...   \n",
       "4   Pope Francis Just Called Out Donald Trump Dur...   \n",
       "\n",
       "                                                text subject  \\\n",
       "0  Donald Trump just couldn t wish all Americans ...    News   \n",
       "1  House Intelligence Committee Chairman Devin Nu...    News   \n",
       "2  On Friday, it was revealed that former Milwauk...    News   \n",
       "3  On Christmas day, Donald Trump announced that ...    News   \n",
       "4  Pope Francis used his annual Christmas Day mes...    News   \n",
       "\n",
       "                date  \n",
       "0  December 31, 2017  \n",
       "1  December 31, 2017  \n",
       "2  December 30, 2017  \n",
       "3  December 29, 2017  \n",
       "4  December 25, 2017  "
      ]
     },
     "execution_count": 5,
     "metadata": {},
     "output_type": "execute_result"
    }
   ],
   "source": [
    "fake2.head()"
   ]
  },
  {
   "cell_type": "code",
   "execution_count": 6,
   "id": "6c8c0a52",
   "metadata": {},
   "outputs": [],
   "source": [
    "true=pd.read_csv(\"True.tsv\", sep=\"\\t\")"
   ]
  },
  {
   "cell_type": "code",
   "execution_count": 7,
   "id": "30fcc7fc",
   "metadata": {},
   "outputs": [
    {
     "data": {
      "text/html": [
       "<div>\n",
       "<style scoped>\n",
       "    .dataframe tbody tr th:only-of-type {\n",
       "        vertical-align: middle;\n",
       "    }\n",
       "\n",
       "    .dataframe tbody tr th {\n",
       "        vertical-align: top;\n",
       "    }\n",
       "\n",
       "    .dataframe thead th {\n",
       "        text-align: right;\n",
       "    }\n",
       "</style>\n",
       "<table border=\"1\" class=\"dataframe\">\n",
       "  <thead>\n",
       "    <tr style=\"text-align: right;\">\n",
       "      <th></th>\n",
       "      <th>title</th>\n",
       "      <th>text</th>\n",
       "      <th>subject</th>\n",
       "      <th>date</th>\n",
       "    </tr>\n",
       "  </thead>\n",
       "  <tbody>\n",
       "    <tr>\n",
       "      <th>0</th>\n",
       "      <td>As U.S. budget fight looms, Republicans flip t...</td>\n",
       "      <td>WASHINGTON (Reuters) - The head of a conservat...</td>\n",
       "      <td>politicsNews</td>\n",
       "      <td>December 31, 2017</td>\n",
       "    </tr>\n",
       "    <tr>\n",
       "      <th>1</th>\n",
       "      <td>U.S. military to accept transgender recruits o...</td>\n",
       "      <td>WASHINGTON (Reuters) - Transgender people will...</td>\n",
       "      <td>politicsNews</td>\n",
       "      <td>December 29, 2017</td>\n",
       "    </tr>\n",
       "    <tr>\n",
       "      <th>2</th>\n",
       "      <td>Senior U.S. Republican senator: 'Let Mr. Muell...</td>\n",
       "      <td>WASHINGTON (Reuters) - The special counsel inv...</td>\n",
       "      <td>politicsNews</td>\n",
       "      <td>December 31, 2017</td>\n",
       "    </tr>\n",
       "    <tr>\n",
       "      <th>3</th>\n",
       "      <td>FBI Russia probe helped by Australian diplomat...</td>\n",
       "      <td>WASHINGTON (Reuters) - Trump campaign adviser ...</td>\n",
       "      <td>politicsNews</td>\n",
       "      <td>December 30, 2017</td>\n",
       "    </tr>\n",
       "    <tr>\n",
       "      <th>4</th>\n",
       "      <td>Trump wants Postal Service to charge 'much mor...</td>\n",
       "      <td>SEATTLE/WASHINGTON (Reuters) - President Donal...</td>\n",
       "      <td>politicsNews</td>\n",
       "      <td>December 29, 2017</td>\n",
       "    </tr>\n",
       "  </tbody>\n",
       "</table>\n",
       "</div>"
      ],
      "text/plain": [
       "                                               title  \\\n",
       "0  As U.S. budget fight looms, Republicans flip t...   \n",
       "1  U.S. military to accept transgender recruits o...   \n",
       "2  Senior U.S. Republican senator: 'Let Mr. Muell...   \n",
       "3  FBI Russia probe helped by Australian diplomat...   \n",
       "4  Trump wants Postal Service to charge 'much mor...   \n",
       "\n",
       "                                                text       subject  \\\n",
       "0  WASHINGTON (Reuters) - The head of a conservat...  politicsNews   \n",
       "1  WASHINGTON (Reuters) - Transgender people will...  politicsNews   \n",
       "2  WASHINGTON (Reuters) - The special counsel inv...  politicsNews   \n",
       "3  WASHINGTON (Reuters) - Trump campaign adviser ...  politicsNews   \n",
       "4  SEATTLE/WASHINGTON (Reuters) - President Donal...  politicsNews   \n",
       "\n",
       "                 date  \n",
       "0  December 31, 2017   \n",
       "1  December 29, 2017   \n",
       "2  December 31, 2017   \n",
       "3  December 30, 2017   \n",
       "4  December 29, 2017   "
      ]
     },
     "execution_count": 7,
     "metadata": {},
     "output_type": "execute_result"
    }
   ],
   "source": [
    "true.head()"
   ]
  },
  {
   "cell_type": "markdown",
   "id": "81e183b8",
   "metadata": {},
   "source": [
    "First Five rows of True news."
   ]
  },
  {
   "cell_type": "markdown",
   "id": "f295c00f",
   "metadata": {},
   "source": [
    "# Data cleaning and preparation"
   ]
  },
  {
   "cell_type": "code",
   "execution_count": 8,
   "id": "59f23f09",
   "metadata": {},
   "outputs": [],
   "source": [
    "# Adding a new column in both dataset.\n",
    "fake2['target'] ='fake'\n",
    "true['target'] = 'true'"
   ]
  },
  {
   "cell_type": "markdown",
   "id": "ab30a802",
   "metadata": {},
   "source": [
    "There is no target column so creating new column which is target."
   ]
  },
  {
   "cell_type": "code",
   "execution_count": 10,
   "id": "686d1b88",
   "metadata": {},
   "outputs": [
    {
     "data": {
      "text/plain": [
       "(44919, 5)"
      ]
     },
     "execution_count": 10,
     "metadata": {},
     "output_type": "execute_result"
    }
   ],
   "source": [
    "# Concatenate dataframes\n",
    "news =pd.concat([fake2, true]).reset_index(drop = True)\n",
    "news.shape"
   ]
  },
  {
   "cell_type": "markdown",
   "id": "62f687be",
   "metadata": {},
   "source": [
    "Concatenating both dataset"
   ]
  },
  {
   "cell_type": "code",
   "execution_count": 16,
   "id": "70c5a849",
   "metadata": {},
   "outputs": [],
   "source": [
    "# Shuffle the data\n",
    "from sklearn.utils import shuffle\n",
    "data = shuffle(news)\n",
    "data = data.reset_index(drop=True)"
   ]
  },
  {
   "cell_type": "code",
   "execution_count": 17,
   "id": "78b7585d",
   "metadata": {},
   "outputs": [
    {
     "data": {
      "text/html": [
       "<div>\n",
       "<style scoped>\n",
       "    .dataframe tbody tr th:only-of-type {\n",
       "        vertical-align: middle;\n",
       "    }\n",
       "\n",
       "    .dataframe tbody tr th {\n",
       "        vertical-align: top;\n",
       "    }\n",
       "\n",
       "    .dataframe thead th {\n",
       "        text-align: right;\n",
       "    }\n",
       "</style>\n",
       "<table border=\"1\" class=\"dataframe\">\n",
       "  <thead>\n",
       "    <tr style=\"text-align: right;\">\n",
       "      <th></th>\n",
       "      <th>title</th>\n",
       "      <th>text</th>\n",
       "      <th>subject</th>\n",
       "      <th>date</th>\n",
       "      <th>target</th>\n",
       "    </tr>\n",
       "  </thead>\n",
       "  <tbody>\n",
       "    <tr>\n",
       "      <th>0</th>\n",
       "      <td>Watch: Paralyzed Veterans Stand for National A...</td>\n",
       "      <td>The message that we re all hoping to send is ...</td>\n",
       "      <td>politics</td>\n",
       "      <td>Sep 25, 2017</td>\n",
       "      <td>fake</td>\n",
       "    </tr>\n",
       "    <tr>\n",
       "      <th>1</th>\n",
       "      <td>Families of Japanese abducted by North Korea m...</td>\n",
       "      <td>TOKYO (Reuters) - Family members of Japanese a...</td>\n",
       "      <td>politicsNews</td>\n",
       "      <td>November 6, 2017</td>\n",
       "      <td>true</td>\n",
       "    </tr>\n",
       "    <tr>\n",
       "      <th>2</th>\n",
       "      <td>(VIDEO) UN CLIMATE CHANGE FREAKS: â€œWe should...</td>\n",
       "      <td>What an evil bunch of freaks! The agenda is so...</td>\n",
       "      <td>Government News</td>\n",
       "      <td>Apr 6, 2015</td>\n",
       "      <td>fake</td>\n",
       "    </tr>\n",
       "    <tr>\n",
       "      <th>3</th>\n",
       "      <td>Merkel and the refugees: How German leader eme...</td>\n",
       "      <td>BERLIN (Reuters) - Near the end of a recent ca...</td>\n",
       "      <td>worldnews</td>\n",
       "      <td>September 10, 2017</td>\n",
       "      <td>true</td>\n",
       "    </tr>\n",
       "    <tr>\n",
       "      <th>4</th>\n",
       "      <td>Trump likely to nominate former Senate aide Pe...</td>\n",
       "      <td>WASHINGTON (Reuters) - U.S. President Donald T...</td>\n",
       "      <td>politicsNews</td>\n",
       "      <td>June 16, 2017</td>\n",
       "      <td>true</td>\n",
       "    </tr>\n",
       "  </tbody>\n",
       "</table>\n",
       "</div>"
      ],
      "text/plain": [
       "                                               title  \\\n",
       "0  Watch: Paralyzed Veterans Stand for National A...   \n",
       "1  Families of Japanese abducted by North Korea m...   \n",
       "2  (VIDEO) UN CLIMATE CHANGE FREAKS: â€œWe should...   \n",
       "3  Merkel and the refugees: How German leader eme...   \n",
       "4  Trump likely to nominate former Senate aide Pe...   \n",
       "\n",
       "                                                text          subject  \\\n",
       "0   The message that we re all hoping to send is ...         politics   \n",
       "1  TOKYO (Reuters) - Family members of Japanese a...     politicsNews   \n",
       "2  What an evil bunch of freaks! The agenda is so...  Government News   \n",
       "3  BERLIN (Reuters) - Near the end of a recent ca...        worldnews   \n",
       "4  WASHINGTON (Reuters) - U.S. President Donald T...     politicsNews   \n",
       "\n",
       "                  date target  \n",
       "0         Sep 25, 2017   fake  \n",
       "1    November 6, 2017    true  \n",
       "2          Apr 6, 2015   fake  \n",
       "3  September 10, 2017    true  \n",
       "4       June 16, 2017    true  "
      ]
     },
     "execution_count": 17,
     "metadata": {},
     "output_type": "execute_result"
    }
   ],
   "source": [
    "data.head()"
   ]
  },
  {
   "cell_type": "code",
   "execution_count": 18,
   "id": "980448ed",
   "metadata": {},
   "outputs": [
    {
     "data": {
      "text/plain": [
       "(44919, 5)"
      ]
     },
     "execution_count": 18,
     "metadata": {},
     "output_type": "execute_result"
    }
   ],
   "source": [
    "data.shape"
   ]
  },
  {
   "cell_type": "markdown",
   "id": "9c8db233",
   "metadata": {},
   "source": [
    "data has 44919 rows and 5 columns."
   ]
  },
  {
   "cell_type": "code",
   "execution_count": 19,
   "id": "195099a4",
   "metadata": {},
   "outputs": [
    {
     "data": {
      "text/html": [
       "<div>\n",
       "<style scoped>\n",
       "    .dataframe tbody tr th:only-of-type {\n",
       "        vertical-align: middle;\n",
       "    }\n",
       "\n",
       "    .dataframe tbody tr th {\n",
       "        vertical-align: top;\n",
       "    }\n",
       "\n",
       "    .dataframe thead th {\n",
       "        text-align: right;\n",
       "    }\n",
       "</style>\n",
       "<table border=\"1\" class=\"dataframe\">\n",
       "  <thead>\n",
       "    <tr style=\"text-align: right;\">\n",
       "      <th></th>\n",
       "      <th>title</th>\n",
       "      <th>text</th>\n",
       "      <th>subject</th>\n",
       "      <th>target</th>\n",
       "    </tr>\n",
       "  </thead>\n",
       "  <tbody>\n",
       "    <tr>\n",
       "      <th>0</th>\n",
       "      <td>Watch: Paralyzed Veterans Stand for National A...</td>\n",
       "      <td>The message that we re all hoping to send is ...</td>\n",
       "      <td>politics</td>\n",
       "      <td>fake</td>\n",
       "    </tr>\n",
       "    <tr>\n",
       "      <th>1</th>\n",
       "      <td>Families of Japanese abducted by North Korea m...</td>\n",
       "      <td>TOKYO (Reuters) - Family members of Japanese a...</td>\n",
       "      <td>politicsNews</td>\n",
       "      <td>true</td>\n",
       "    </tr>\n",
       "    <tr>\n",
       "      <th>2</th>\n",
       "      <td>(VIDEO) UN CLIMATE CHANGE FREAKS: â€œWe should...</td>\n",
       "      <td>What an evil bunch of freaks! The agenda is so...</td>\n",
       "      <td>Government News</td>\n",
       "      <td>fake</td>\n",
       "    </tr>\n",
       "    <tr>\n",
       "      <th>3</th>\n",
       "      <td>Merkel and the refugees: How German leader eme...</td>\n",
       "      <td>BERLIN (Reuters) - Near the end of a recent ca...</td>\n",
       "      <td>worldnews</td>\n",
       "      <td>true</td>\n",
       "    </tr>\n",
       "    <tr>\n",
       "      <th>4</th>\n",
       "      <td>Trump likely to nominate former Senate aide Pe...</td>\n",
       "      <td>WASHINGTON (Reuters) - U.S. President Donald T...</td>\n",
       "      <td>politicsNews</td>\n",
       "      <td>true</td>\n",
       "    </tr>\n",
       "  </tbody>\n",
       "</table>\n",
       "</div>"
      ],
      "text/plain": [
       "                                               title  \\\n",
       "0  Watch: Paralyzed Veterans Stand for National A...   \n",
       "1  Families of Japanese abducted by North Korea m...   \n",
       "2  (VIDEO) UN CLIMATE CHANGE FREAKS: â€œWe should...   \n",
       "3  Merkel and the refugees: How German leader eme...   \n",
       "4  Trump likely to nominate former Senate aide Pe...   \n",
       "\n",
       "                                                text          subject target  \n",
       "0   The message that we re all hoping to send is ...         politics   fake  \n",
       "1  TOKYO (Reuters) - Family members of Japanese a...     politicsNews   true  \n",
       "2  What an evil bunch of freaks! The agenda is so...  Government News   fake  \n",
       "3  BERLIN (Reuters) - Near the end of a recent ca...        worldnews   true  \n",
       "4  WASHINGTON (Reuters) - U.S. President Donald T...     politicsNews   true  "
      ]
     },
     "execution_count": 19,
     "metadata": {},
     "output_type": "execute_result"
    }
   ],
   "source": [
    "data.drop([\"date\"],axis=1,inplace=True)\n",
    "data.head()"
   ]
  },
  {
   "cell_type": "markdown",
   "id": "5865fa42",
   "metadata": {},
   "source": [
    "Dropping date column because we will not use it for the analysis."
   ]
  },
  {
   "cell_type": "code",
   "execution_count": 20,
   "id": "48d7d7cf",
   "metadata": {},
   "outputs": [
    {
     "data": {
      "text/html": [
       "<div>\n",
       "<style scoped>\n",
       "    .dataframe tbody tr th:only-of-type {\n",
       "        vertical-align: middle;\n",
       "    }\n",
       "\n",
       "    .dataframe tbody tr th {\n",
       "        vertical-align: top;\n",
       "    }\n",
       "\n",
       "    .dataframe thead th {\n",
       "        text-align: right;\n",
       "    }\n",
       "</style>\n",
       "<table border=\"1\" class=\"dataframe\">\n",
       "  <thead>\n",
       "    <tr style=\"text-align: right;\">\n",
       "      <th></th>\n",
       "      <th>text</th>\n",
       "      <th>subject</th>\n",
       "      <th>target</th>\n",
       "    </tr>\n",
       "  </thead>\n",
       "  <tbody>\n",
       "    <tr>\n",
       "      <th>0</th>\n",
       "      <td>The message that we re all hoping to send is ...</td>\n",
       "      <td>politics</td>\n",
       "      <td>fake</td>\n",
       "    </tr>\n",
       "    <tr>\n",
       "      <th>1</th>\n",
       "      <td>TOKYO (Reuters) - Family members of Japanese a...</td>\n",
       "      <td>politicsNews</td>\n",
       "      <td>true</td>\n",
       "    </tr>\n",
       "    <tr>\n",
       "      <th>2</th>\n",
       "      <td>What an evil bunch of freaks! The agenda is so...</td>\n",
       "      <td>Government News</td>\n",
       "      <td>fake</td>\n",
       "    </tr>\n",
       "    <tr>\n",
       "      <th>3</th>\n",
       "      <td>BERLIN (Reuters) - Near the end of a recent ca...</td>\n",
       "      <td>worldnews</td>\n",
       "      <td>true</td>\n",
       "    </tr>\n",
       "    <tr>\n",
       "      <th>4</th>\n",
       "      <td>WASHINGTON (Reuters) - U.S. President Donald T...</td>\n",
       "      <td>politicsNews</td>\n",
       "      <td>true</td>\n",
       "    </tr>\n",
       "  </tbody>\n",
       "</table>\n",
       "</div>"
      ],
      "text/plain": [
       "                                                text          subject target\n",
       "0   The message that we re all hoping to send is ...         politics   fake\n",
       "1  TOKYO (Reuters) - Family members of Japanese a...     politicsNews   true\n",
       "2  What an evil bunch of freaks! The agenda is so...  Government News   fake\n",
       "3  BERLIN (Reuters) - Near the end of a recent ca...        worldnews   true\n",
       "4  WASHINGTON (Reuters) - U.S. President Donald T...     politicsNews   true"
      ]
     },
     "execution_count": 20,
     "metadata": {},
     "output_type": "execute_result"
    }
   ],
   "source": [
    "data.drop([\"title\"],axis=1,inplace=True)\n",
    "data.head()"
   ]
  },
  {
   "cell_type": "markdown",
   "id": "b6237882",
   "metadata": {},
   "source": [
    "Dropping title column because we will use only the text column."
   ]
  },
  {
   "cell_type": "code",
   "execution_count": 21,
   "id": "9a172b1f",
   "metadata": {},
   "outputs": [
    {
     "data": {
      "text/html": [
       "<div>\n",
       "<style scoped>\n",
       "    .dataframe tbody tr th:only-of-type {\n",
       "        vertical-align: middle;\n",
       "    }\n",
       "\n",
       "    .dataframe tbody tr th {\n",
       "        vertical-align: top;\n",
       "    }\n",
       "\n",
       "    .dataframe thead th {\n",
       "        text-align: right;\n",
       "    }\n",
       "</style>\n",
       "<table border=\"1\" class=\"dataframe\">\n",
       "  <thead>\n",
       "    <tr style=\"text-align: right;\">\n",
       "      <th></th>\n",
       "      <th>text</th>\n",
       "      <th>subject</th>\n",
       "      <th>target</th>\n",
       "    </tr>\n",
       "  </thead>\n",
       "  <tbody>\n",
       "    <tr>\n",
       "      <th>0</th>\n",
       "      <td>the message that we re all hoping to send is ...</td>\n",
       "      <td>politics</td>\n",
       "      <td>fake</td>\n",
       "    </tr>\n",
       "    <tr>\n",
       "      <th>1</th>\n",
       "      <td>tokyo (reuters) - family members of japanese a...</td>\n",
       "      <td>politicsNews</td>\n",
       "      <td>true</td>\n",
       "    </tr>\n",
       "    <tr>\n",
       "      <th>2</th>\n",
       "      <td>what an evil bunch of freaks! the agenda is so...</td>\n",
       "      <td>Government News</td>\n",
       "      <td>fake</td>\n",
       "    </tr>\n",
       "    <tr>\n",
       "      <th>3</th>\n",
       "      <td>berlin (reuters) - near the end of a recent ca...</td>\n",
       "      <td>worldnews</td>\n",
       "      <td>true</td>\n",
       "    </tr>\n",
       "    <tr>\n",
       "      <th>4</th>\n",
       "      <td>washington (reuters) - u.s. president donald t...</td>\n",
       "      <td>politicsNews</td>\n",
       "      <td>true</td>\n",
       "    </tr>\n",
       "  </tbody>\n",
       "</table>\n",
       "</div>"
      ],
      "text/plain": [
       "                                                text          subject target\n",
       "0   the message that we re all hoping to send is ...         politics   fake\n",
       "1  tokyo (reuters) - family members of japanese a...     politicsNews   true\n",
       "2  what an evil bunch of freaks! the agenda is so...  Government News   fake\n",
       "3  berlin (reuters) - near the end of a recent ca...        worldnews   true\n",
       "4  washington (reuters) - u.s. president donald t...     politicsNews   true"
      ]
     },
     "execution_count": 21,
     "metadata": {},
     "output_type": "execute_result"
    }
   ],
   "source": [
    "data['text'] = data['text'].apply(lambda x: x.lower())\n",
    "data.head()"
   ]
  },
  {
   "cell_type": "markdown",
   "id": "79d43b33",
   "metadata": {},
   "source": [
    "converting all text into lowercase."
   ]
  },
  {
   "cell_type": "code",
   "execution_count": 22,
   "id": "5d7abf0f",
   "metadata": {},
   "outputs": [],
   "source": [
    "import string\n",
    "\n",
    "def punctuation_removal(text):\n",
    "    all_list = [char for char in text if char not in string.punctuation]\n",
    "    clean_str = ''.join(all_list)\n",
    "    return clean_str\n",
    "\n",
    "data['text'] = data['text'].apply(punctuation_removal)"
   ]
  },
  {
   "cell_type": "markdown",
   "id": "e4a7b79f",
   "metadata": {},
   "source": [
    "Removing punctuation."
   ]
  },
  {
   "cell_type": "code",
   "execution_count": 23,
   "id": "d2348ecc",
   "metadata": {},
   "outputs": [
    {
     "data": {
      "text/html": [
       "<div>\n",
       "<style scoped>\n",
       "    .dataframe tbody tr th:only-of-type {\n",
       "        vertical-align: middle;\n",
       "    }\n",
       "\n",
       "    .dataframe tbody tr th {\n",
       "        vertical-align: top;\n",
       "    }\n",
       "\n",
       "    .dataframe thead th {\n",
       "        text-align: right;\n",
       "    }\n",
       "</style>\n",
       "<table border=\"1\" class=\"dataframe\">\n",
       "  <thead>\n",
       "    <tr style=\"text-align: right;\">\n",
       "      <th></th>\n",
       "      <th>text</th>\n",
       "      <th>subject</th>\n",
       "      <th>target</th>\n",
       "    </tr>\n",
       "  </thead>\n",
       "  <tbody>\n",
       "    <tr>\n",
       "      <th>0</th>\n",
       "      <td>the message that we re all hoping to send is ...</td>\n",
       "      <td>politics</td>\n",
       "      <td>fake</td>\n",
       "    </tr>\n",
       "    <tr>\n",
       "      <th>1</th>\n",
       "      <td>tokyo reuters  family members of japanese abdu...</td>\n",
       "      <td>politicsNews</td>\n",
       "      <td>true</td>\n",
       "    </tr>\n",
       "    <tr>\n",
       "      <th>2</th>\n",
       "      <td>what an evil bunch of freaks the agenda is so ...</td>\n",
       "      <td>Government News</td>\n",
       "      <td>fake</td>\n",
       "    </tr>\n",
       "    <tr>\n",
       "      <th>3</th>\n",
       "      <td>berlin reuters  near the end of a recent campa...</td>\n",
       "      <td>worldnews</td>\n",
       "      <td>true</td>\n",
       "    </tr>\n",
       "    <tr>\n",
       "      <th>4</th>\n",
       "      <td>washington reuters  us president donald trump ...</td>\n",
       "      <td>politicsNews</td>\n",
       "      <td>true</td>\n",
       "    </tr>\n",
       "  </tbody>\n",
       "</table>\n",
       "</div>"
      ],
      "text/plain": [
       "                                                text          subject target\n",
       "0   the message that we re all hoping to send is ...         politics   fake\n",
       "1  tokyo reuters  family members of japanese abdu...     politicsNews   true\n",
       "2  what an evil bunch of freaks the agenda is so ...  Government News   fake\n",
       "3  berlin reuters  near the end of a recent campa...        worldnews   true\n",
       "4  washington reuters  us president donald trump ...     politicsNews   true"
      ]
     },
     "execution_count": 23,
     "metadata": {},
     "output_type": "execute_result"
    }
   ],
   "source": [
    "data.head()"
   ]
  },
  {
   "cell_type": "markdown",
   "id": "f72571e7",
   "metadata": {},
   "source": [
    "Punctuation has been removed."
   ]
  },
  {
   "cell_type": "code",
   "execution_count": 24,
   "id": "ed33fb8e",
   "metadata": {},
   "outputs": [
    {
     "name": "stderr",
     "output_type": "stream",
     "text": [
      "[nltk_data] Downloading package stopwords to\n",
      "[nltk_data]     C:\\Users\\ACER\\AppData\\Roaming\\nltk_data...\n",
      "[nltk_data]   Unzipping corpora\\stopwords.zip.\n"
     ]
    }
   ],
   "source": [
    "import nltk\n",
    "nltk.download('stopwords')\n",
    "from nltk.corpus import stopwords\n",
    "stop = stopwords.words('english')\n",
    "\n",
    "data['text'] = data['text'].apply(lambda x: ' '.join([word for word in x.split() if word not in (stop)]))"
   ]
  },
  {
   "cell_type": "markdown",
   "id": "5a0bd699",
   "metadata": {},
   "source": [
    "Removing Stopwords."
   ]
  },
  {
   "cell_type": "code",
   "execution_count": 25,
   "id": "90c1a028",
   "metadata": {},
   "outputs": [
    {
     "data": {
      "text/html": [
       "<div>\n",
       "<style scoped>\n",
       "    .dataframe tbody tr th:only-of-type {\n",
       "        vertical-align: middle;\n",
       "    }\n",
       "\n",
       "    .dataframe tbody tr th {\n",
       "        vertical-align: top;\n",
       "    }\n",
       "\n",
       "    .dataframe thead th {\n",
       "        text-align: right;\n",
       "    }\n",
       "</style>\n",
       "<table border=\"1\" class=\"dataframe\">\n",
       "  <thead>\n",
       "    <tr style=\"text-align: right;\">\n",
       "      <th></th>\n",
       "      <th>text</th>\n",
       "      <th>subject</th>\n",
       "      <th>target</th>\n",
       "    </tr>\n",
       "  </thead>\n",
       "  <tbody>\n",
       "    <tr>\n",
       "      <th>0</th>\n",
       "      <td>message hoping send standing national anthem n...</td>\n",
       "      <td>politics</td>\n",
       "      <td>fake</td>\n",
       "    </tr>\n",
       "    <tr>\n",
       "      <th>1</th>\n",
       "      <td>tokyo reuters family members japanese abducted...</td>\n",
       "      <td>politicsNews</td>\n",
       "      <td>true</td>\n",
       "    </tr>\n",
       "    <tr>\n",
       "      <th>2</th>\n",
       "      <td>evil bunch freaks agenda important see forest ...</td>\n",
       "      <td>Government News</td>\n",
       "      <td>fake</td>\n",
       "    </tr>\n",
       "    <tr>\n",
       "      <th>3</th>\n",
       "      <td>berlin reuters near end recent campaign speech...</td>\n",
       "      <td>worldnews</td>\n",
       "      <td>true</td>\n",
       "    </tr>\n",
       "    <tr>\n",
       "      <th>4</th>\n",
       "      <td>washington reuters us president donald trump l...</td>\n",
       "      <td>politicsNews</td>\n",
       "      <td>true</td>\n",
       "    </tr>\n",
       "  </tbody>\n",
       "</table>\n",
       "</div>"
      ],
      "text/plain": [
       "                                                text          subject target\n",
       "0  message hoping send standing national anthem n...         politics   fake\n",
       "1  tokyo reuters family members japanese abducted...     politicsNews   true\n",
       "2  evil bunch freaks agenda important see forest ...  Government News   fake\n",
       "3  berlin reuters near end recent campaign speech...        worldnews   true\n",
       "4  washington reuters us president donald trump l...     politicsNews   true"
      ]
     },
     "execution_count": 25,
     "metadata": {},
     "output_type": "execute_result"
    }
   ],
   "source": [
    "data.head()"
   ]
  },
  {
   "cell_type": "markdown",
   "id": "aa5728a4",
   "metadata": {},
   "source": [
    "Stopwords has been removed."
   ]
  },
  {
   "cell_type": "markdown",
   "id": "c55cfecc",
   "metadata": {},
   "source": [
    "# Basic data exploration "
   ]
  },
  {
   "cell_type": "code",
   "execution_count": 29,
   "id": "fc93f02f",
   "metadata": {},
   "outputs": [
    {
     "data": {
      "text/plain": [
       "politicsNews                                                                                                                                                                                                                                                                                    11272\n",
       "worldnews                                                                                                                                                                                                                                                                                       10145\n",
       "News                                                                                                                                                                                                                                                                                             9050\n",
       "politics                                                                                                                                                                                                                                                                                         6838\n",
       "left-news                                                                                                                                                                                                                                                                                        4457\n",
       "Government News                                                                                                                                                                                                                                                                                  1570\n",
       "US_News                                                                                                                                                                                                                                                                                           775\n",
       "Middle-east                                                                                                                                                                                                                                                                                       770\n",
       " high taxes                                                                                                                                                                                                                                                                                         2\n",
       " fell 5.6 percent Monday. Wynn Resortsslipped 1.2 percent. Las Vegas Sands fell as much as 2.1 percent before closing higher.   LIVE DRILL    Las Vegas has been at the forefront of active shooter training. ( Image Source: sinclairstoryline)Las Vegas Active Shooter Drills Back in 2014        2\n",
       " decided not to seek re-election. While much of the mainstream media waxed poetic about his 30-year career                                                                                                                                                                                          2\n",
       " a future nuclear family                                                                                                                                                                                                                                                                            2\n",
       " the defense industry                                                                                                                                                                                                                                                                               2\n",
       " claimed that hundreds of alternative media websites were producing  fake news  and  conspiracy  stories and therefore were unreliable as information sources. It wasn t long before the establishment began referencing these politicized lists                                                    2\n",
       " state systems with outsized pretensions to power have reacted to their environments in two ways. The first strategy                                                                                                                                                                                2\n",
       " and so is Mr. Katzenbach                                                                                                                                                                                                                                                                           2\n",
       " of which Soros is a major financier.Mercy Corps: Vis a vis the Arab-Israeli conflict                                                                                                                                                                                                               2\n",
       " Karl Marx is either a villain or a hero of social engineering                                                                                                                                                                                                                                      2\n",
       " Politics According to the Bible and (with Barry Asmus) The Poverty of Nations: A Sustainable Solution.Via: Townhall\"                                                                                                                                                                               1\n",
       "Name: subject, dtype: int64"
      ]
     },
     "execution_count": 29,
     "metadata": {},
     "output_type": "execute_result"
    }
   ],
   "source": [
    "data[\"subject\"].value_counts()"
   ]
  },
  {
   "cell_type": "markdown",
   "id": "b033c790",
   "metadata": {},
   "source": [
    "politicsNews and worldnews type of news are highest."
   ]
  },
  {
   "cell_type": "code",
   "execution_count": 27,
   "id": "16443b65",
   "metadata": {},
   "outputs": [
    {
     "name": "stdout",
     "output_type": "stream",
     "text": [
      "target\n",
      "fake    23502\n",
      "true    21417\n",
      "Name: text, dtype: int64\n"
     ]
    },
    {
     "data": {
      "image/png": "[encoded data removed]",
      "text/plain": [
       "<Figure size 432x288 with 1 Axes>"
      ]
     },
     "metadata": {
      "needs_background": "light"
     },
     "output_type": "display_data"
    }
   ],
   "source": [
    "print(data.groupby(['target'])['text'].count())\n",
    "data.groupby(['target'])['text'].count().plot(kind=\"bar\")\n",
    "plt.show()"
   ]
  },
  {
   "cell_type": "markdown",
   "id": "2b3146e6",
   "metadata": {},
   "source": [
    "fake news are 23502 and true news are 21417."
   ]
  },
  {
   "cell_type": "code",
   "execution_count": 32,
   "id": "81d945d7",
   "metadata": {},
   "outputs": [],
   "source": [
    "from nltk import tokenize\n",
    "\n",
    "token_space = tokenize.WhitespaceTokenizer()\n",
    "\n",
    "def counter(text, column_text, quantity):\n",
    "    all_words = ' '.join([text for text in text[column_text]])\n",
    "    token_phrase = token_space.tokenize(all_words)\n",
    "    frequency = nltk.FreqDist(token_phrase)\n",
    "    df_frequency = pd.DataFrame({\"Word\": list(frequency.keys()),\n",
    "                                   \"Frequency\": list(frequency.values())})\n",
    "    df_frequency = df_frequency.nlargest(columns = \"Frequency\", n = quantity)\n",
    "    plt.figure(figsize=(12,8))\n",
    "    ax = sns.barplot(data = df_frequency, x = \"Word\", y = \"Frequency\", color = 'blue')\n",
    "    ax.set(ylabel = \"Count\")\n",
    "    plt.xticks(rotation='vertical')\n",
    "    plt.show()"
   ]
  },
  {
   "cell_type": "code",
   "execution_count": 33,
   "id": "0b41af15",
   "metadata": {},
   "outputs": [
    {
     "data": {
      "image/png": "[encoded data removed]",
      "text/plain": [
       "<Figure size 864x576 with 1 Axes>"
      ]
     },
     "metadata": {
      "needs_background": "light"
     },
     "output_type": "display_data"
    }
   ],
   "source": [
    "counter(data[data[\"target\"] == \"fake\"], \"text\", 20)"
   ]
  },
  {
   "cell_type": "markdown",
   "id": "9e00f03a",
   "metadata": {},
   "source": [
    "These all are most frequent words in fake news. trump word is higly used in fake news."
   ]
  },
  {
   "cell_type": "code",
   "execution_count": 34,
   "id": "c2be0253",
   "metadata": {},
   "outputs": [
    {
     "data": {
      "image/png": "[encoded data removed]",
      "text/plain": [
       "<Figure size 864x576 with 1 Axes>"
      ]
     },
     "metadata": {
      "needs_background": "light"
     },
     "output_type": "display_data"
    }
   ],
   "source": [
    "counter(data[data[\"target\"] == \"true\"], \"text\", 20"
   ]
  },
  {
   "cell_type": "markdown",
   "id": "e606dc77",
   "metadata": {},
   "source": [
    "These all are most frequent words in true news. said word is higly used in true news."
   ]
  },
  {
   "cell_type": "markdown",
   "id": "17e43d06",
   "metadata": {},
   "source": [
    "# Modeling"
   ]
  },
  {
   "cell_type": "code",
   "execution_count": 35,
   "id": "56ae1fc9",
   "metadata": {},
   "outputs": [],
   "source": [
    "# Function to plot the confusion matrix\n",
    "from sklearn import metrics\n",
    "import itertools\n",
    "\n",
    "def plot_confusion_matrix(cm, classes,\n",
    "                          normalize=False,\n",
    "                          title='Confusion matrix',\n",
    "                          cmap=plt.cm.Blues):\n",
    "    \n",
    "    plt.imshow(cm, interpolation='nearest', cmap=cmap)\n",
    "    plt.title(title)\n",
    "    plt.colorbar()\n",
    "    tick_marks = np.arange(len(classes))\n",
    "    plt.xticks(tick_marks, classes, rotation=45)\n",
    "    plt.yticks(tick_marks, classes)\n",
    "\n",
    "    if normalize:\n",
    "        cm = cm.astype('float') / cm.sum(axis=1)[:, np.newaxis]\n",
    "        print(\"Normalized confusion matrix\")\n",
    "    else:\n",
    "        print('Confusion matrix, without normalization')\n",
    "\n",
    "    thresh = cm.max() / 2.\n",
    "    for i, j in itertools.product(range(cm.shape[0]), range(cm.shape[1])):\n",
    "        plt.text(j, i, cm[i, j],\n",
    "                 horizontalalignment=\"center\",\n",
    "                 color=\"white\" if cm[i, j] > thresh else \"black\")\n",
    "\n",
    "    plt.tight_layout()\n",
    "    plt.ylabel('True label')\n",
    "    plt.xlabel('Predicted label')"
   ]
  },
  {
   "cell_type": "code",
   "execution_count": 36,
   "id": "ebc4f9c4",
   "metadata": {},
   "outputs": [],
   "source": [
    "# Split the data\n",
    "X_train,X_test,y_train,y_test = train_test_split(data['text'], data.target, test_size=0.2, random_state=42)\n"
   ]
  },
  {
   "cell_type": "markdown",
   "id": "be7ffb1e",
   "metadata": {},
   "source": [
    "Naive Bayes"
   ]
  },
  {
   "cell_type": "code",
   "execution_count": 37,
   "id": "f553b1d3",
   "metadata": {},
   "outputs": [
    {
     "name": "stdout",
     "output_type": "stream",
     "text": [
      "accuracy: 96.66%\n"
     ]
    }
   ],
   "source": [
    "dct = dict()\n",
    "\n",
    "from sklearn.naive_bayes import MultinomialNB\n",
    "\n",
    "NB_classifier = MultinomialNB()\n",
    "pipe = Pipeline([('vect', CountVectorizer()),\n",
    "                 ('tfidf', TfidfTransformer()),\n",
    "                 ('model', NB_classifier)])\n",
    "\n",
    "model = pipe.fit(X_train, y_train)\n",
    "prediction = model.predict(X_test)\n",
    "print(\"accuracy: {}%\".format(round(accuracy_score(y_test, prediction)*100,2)))\n",
    "\n",
    "dct['Naive Bayes'] = round(accuracy_score(y_test, prediction)*100,2)"
   ]
  },
  {
   "cell_type": "markdown",
   "id": "430ed448",
   "metadata": {},
   "source": [
    "# Accuracy score of NAIVE BAYES is 96.66%"
   ]
  },
  {
   "cell_type": "code",
   "execution_count": 38,
   "id": "2590127d",
   "metadata": {},
   "outputs": [
    {
     "name": "stdout",
     "output_type": "stream",
     "text": [
      "Confusion matrix, without normalization\n"
     ]
    },
    {
     "data": {
      "image/png": "[encoded data removed]",
      "text/plain": [
       "<Figure size 432x288 with 2 Axes>"
      ]
     },
     "metadata": {
      "needs_background": "light"
     },
     "output_type": "display_data"
    }
   ],
   "source": [
    "cm = metrics.confusion_matrix(y_test, prediction)\n",
    "plot_confusion_matrix(cm, classes=['Fake', 'Real'])"
   ]
  },
  {
   "cell_type": "markdown",
   "id": "58e4a0ce",
   "metadata": {},
   "source": [
    "Logistic regression"
   ]
  },
  {
   "cell_type": "code",
   "execution_count": 39,
   "id": "679868e9",
   "metadata": {},
   "outputs": [
    {
     "name": "stdout",
     "output_type": "stream",
     "text": [
      "accuracy: 99.25%\n"
     ]
    }
   ],
   "source": [
    "# Vectorizing and applying TF-IDF\n",
    "from sklearn.linear_model import LogisticRegression\n",
    "\n",
    "pipe = Pipeline([('vect', CountVectorizer()),\n",
    "                 ('tfidf', TfidfTransformer()),\n",
    "                 ('model', LogisticRegression())])\n",
    "\n",
    "# Fitting the model\n",
    "model = pipe.fit(X_train, y_train)\n",
    "\n",
    "# Accuracy\n",
    "prediction = model.predict(X_test)\n",
    "print(\"accuracy: {}%\".format(round(accuracy_score(y_test, prediction)*100,2)))\n",
    "dct['Logistic Regression'] = round(accuracy_score(y_test, prediction)*100,2)"
   ]
  },
  {
   "cell_type": "markdown",
   "id": "b608789e",
   "metadata": {},
   "source": [
    "# Accuracy score of Lgistic regression is 99.25%"
   ]
  },
  {
   "cell_type": "code",
   "execution_count": 40,
   "id": "bb8d8135",
   "metadata": {},
   "outputs": [
    {
     "name": "stdout",
     "output_type": "stream",
     "text": [
      "Confusion matrix, without normalization\n"
     ]
    },
    {
     "data": {
      "image/png": "[encoded data removed]",
      "text/plain": [
       "<Figure size 432x288 with 2 Axes>"
      ]
     },
     "metadata": {
      "needs_background": "light"
     },
     "output_type": "display_data"
    }
   ],
   "source": [
    "cm = metrics.confusion_matrix(y_test, prediction)\n",
    "plot_confusion_matrix(cm, classes=['Fake', 'Real'])"
   ]
  },
  {
   "cell_type": "markdown",
   "id": "44044f42",
   "metadata": {},
   "source": [
    "Decision Tree"
   ]
  },
  {
   "cell_type": "code",
   "execution_count": 41,
   "id": "7f7be205",
   "metadata": {},
   "outputs": [
    {
     "name": "stdout",
     "output_type": "stream",
     "text": [
      "accuracy: 99.72%\n"
     ]
    }
   ],
   "source": [
    "from sklearn.tree import DecisionTreeClassifier\n",
    "\n",
    "# Vectorizing and applying TF-IDF\n",
    "pipe = Pipeline([('vect', CountVectorizer()),\n",
    "                 ('tfidf', TfidfTransformer()),\n",
    "                 ('model', DecisionTreeClassifier(criterion= 'entropy',\n",
    "                                           max_depth = 20, \n",
    "                                           splitter='best', \n",
    "                                           random_state=42))])\n",
    "# Fitting the model\n",
    "model = pipe.fit(X_train, y_train)\n",
    "\n",
    "# Accuracy\n",
    "prediction = model.predict(X_test)\n",
    "print(\"accuracy: {}%\".format(round(accuracy_score(y_test, prediction)*100,2)))\n",
    "dct['Decision Tree'] = round(accuracy_score(y_test, prediction)*100,2)"
   ]
  },
  {
   "cell_type": "markdown",
   "id": "282b7d2a",
   "metadata": {},
   "source": [
    "# Accuracy score of Decision tree classifier is 99.72%"
   ]
  },
  {
   "cell_type": "code",
   "execution_count": 42,
   "id": "749ce8ea",
   "metadata": {},
   "outputs": [
    {
     "name": "stdout",
     "output_type": "stream",
     "text": [
      "Confusion matrix, without normalization\n"
     ]
    },
    {
     "data": {
      "image/png": "[encoded data removed]",
      "text/plain": [
       "<Figure size 432x288 with 2 Axes>"
      ]
     },
     "metadata": {
      "needs_background": "light"
     },
     "output_type": "display_data"
    }
   ],
   "source": [
    "cm = metrics.confusion_matrix(y_test, prediction)\n",
    "plot_confusion_matrix(cm, classes=['Fake', 'Real'])\n"
   ]
  },
  {
   "cell_type": "markdown",
   "id": "ccb1ac15",
   "metadata": {},
   "source": [
    "Random Forest"
   ]
  },
  {
   "cell_type": "code",
   "execution_count": 43,
   "id": "f0021170",
   "metadata": {},
   "outputs": [
    {
     "name": "stdout",
     "output_type": "stream",
     "text": [
      "accuracy: 99.28%\n"
     ]
    }
   ],
   "source": [
    "from sklearn.ensemble import RandomForestClassifier\n",
    "\n",
    "pipe = Pipeline([('vect', CountVectorizer()),\n",
    "                 ('tfidf', TfidfTransformer()),\n",
    "                 ('model', RandomForestClassifier(n_estimators=50, criterion=\"entropy\"))])\n",
    "\n",
    "model = pipe.fit(X_train, y_train)\n",
    "prediction = model.predict(X_test)\n",
    "print(\"accuracy: {}%\".format(round(accuracy_score(y_test, prediction)*100,2)))\n",
    "dct['Random Forest'] = round(accuracy_score(y_test, prediction)*100,2)"
   ]
  },
  {
   "cell_type": "markdown",
   "id": "fd198d77",
   "metadata": {},
   "source": [
    "# Accuracy score of Random Forest classifier is 99.28%"
   ]
  },
  {
   "cell_type": "code",
   "execution_count": 44,
   "id": "2b579ba6",
   "metadata": {},
   "outputs": [
    {
     "name": "stdout",
     "output_type": "stream",
     "text": [
      "Confusion matrix, without normalization\n"
     ]
    },
    {
     "data": {
      "image/png": "[encoded data removed]",
      "text/plain": [
       "<Figure size 432x288 with 2 Axes>"
      ]
     },
     "metadata": {
      "needs_background": "light"
     },
     "output_type": "display_data"
    }
   ],
   "source": [
    "cm = metrics.confusion_matrix(y_test, prediction)\n",
    "plot_confusion_matrix(cm, classes=['Fake', 'Real'])"
   ]
  },
  {
   "cell_type": "markdown",
   "id": "99eef56e",
   "metadata": {},
   "source": [
    "SVM"
   ]
  },
  {
   "cell_type": "code",
   "execution_count": 45,
   "id": "0ab38c22",
   "metadata": {},
   "outputs": [
    {
     "name": "stdout",
     "output_type": "stream",
     "text": [
      "accuracy: 99.7%\n"
     ]
    }
   ],
   "source": [
    "from sklearn import svm\n",
    "\n",
    "#Create a svm Classifier\n",
    "clf = svm.SVC(kernel='linear') # Linear Kernel\n",
    "\n",
    "pipe = Pipeline([('vect', CountVectorizer()),\n",
    "                 ('tfidf', TfidfTransformer()),\n",
    "                 ('model', clf)])\n",
    "\n",
    "model = pipe.fit(X_train, y_train)\n",
    "prediction = model.predict(X_test)\n",
    "print(\"accuracy: {}%\".format(round(accuracy_score(y_test, prediction)*100,2)))\n",
    "dct['SVM'] = round(accuracy_score(y_test, prediction)*100,2)"
   ]
  },
  {
   "cell_type": "markdown",
   "id": "97fe4b46",
   "metadata": {},
   "source": [
    "# Accuracy Score of SVM is 99.7%"
   ]
  },
  {
   "cell_type": "code",
   "execution_count": 46,
   "id": "ab6406f0",
   "metadata": {},
   "outputs": [
    {
     "name": "stdout",
     "output_type": "stream",
     "text": [
      "Confusion matrix, without normalization\n"
     ]
    },
    {
     "data": {
      "image/png": "[encoded data removed]",
      "text/plain": [
       "<Figure size 432x288 with 2 Axes>"
      ]
     },
     "metadata": {
      "needs_background": "light"
     },
     "output_type": "display_data"
    }
   ],
   "source": [
    "cm = metrics.confusion_matrix(y_test, prediction)\n",
    "plot_confusion_matrix(cm, classes=['Fake', 'Real'])"
   ]
  },
  {
   "cell_type": "markdown",
   "id": "c4edeeee",
   "metadata": {},
   "source": [
    "# Comparing Different Models"
   ]
  },
  {
   "cell_type": "code",
   "execution_count": 47,
   "id": "69e3e71b",
   "metadata": {},
   "outputs": [
    {
     "data": {
      "text/plain": [
       "([<matplotlib.axis.YTick at 0x15b00a6f640>,\n",
       "  <matplotlib.axis.YTick at 0x15b00a74fa0>,\n",
       "  <matplotlib.axis.YTick at 0x15b00a740d0>,\n",
       "  <matplotlib.axis.YTick at 0x15b00ed1880>,\n",
       "  <matplotlib.axis.YTick at 0x15b00eea370>,\n",
       "  <matplotlib.axis.YTick at 0x15b00eeae20>,\n",
       "  <matplotlib.axis.YTick at 0x15b00ef8910>,\n",
       "  <matplotlib.axis.YTick at 0x15b00ed11f0>,\n",
       "  <matplotlib.axis.YTick at 0x15b00efa370>,\n",
       "  <matplotlib.axis.YTick at 0x15b00efae20>],\n",
       " [Text(0, 91, '91'),\n",
       "  Text(0, 92, '92'),\n",
       "  Text(0, 93, '93'),\n",
       "  Text(0, 94, '94'),\n",
       "  Text(0, 95, '95'),\n",
       "  Text(0, 96, '96'),\n",
       "  Text(0, 97, '97'),\n",
       "  Text(0, 98, '98'),\n",
       "  Text(0, 99, '99'),\n",
       "  Text(0, 100, '100')])"
      ]
     },
     "execution_count": 47,
     "metadata": {},
     "output_type": "execute_result"
    },
    {
     "data": {
      "image/png": "[encoded data removed]",
      "text/plain": [
       "<Figure size 576x504 with 1 Axes>"
      ]
     },
     "metadata": {
      "needs_background": "light"
     },
     "output_type": "display_data"
    }
   ],
   "source": [
    "import matplotlib.pyplot as plt\n",
    "plt.figure(figsize=(8,7))\n",
    "plt.bar(list(dct.keys()),list(dct.values()))\n",
    "plt.ylim(90,100)\n",
    "plt.yticks((91, 92, 93, 94, 95, 96, 97, 98, 99, 100))"
   ]
  },
  {
   "cell_type": "markdown",
   "id": "d4111337",
   "metadata": {},
   "source": [
    "Decision Tree classifier and SVM Algorithms are working well."
   ]
  },
  {
   "cell_type": "code",
   "execution_count": null,
   "id": "b79a9988",
   "metadata": {},
   "outputs": [],
   "source": []
  }
 ],
 "metadata": {
  "kernelspec": {
   "display_name": "Python 3 (ipykernel)",
   "language": "python",
   "name": "python3"
  },
  "language_info": {
   "codemirror_mode": {
    "name": "ipython",
    "version": 3
   },
   "file_extension": ".py",
   "mimetype": "text/x-python",
   "name": "python",
   "nbconvert_exporter": "python",
   "pygments_lexer": "ipython3",
   "version": "3.9.7"
  }
 },
 "nbformat": 4,
 "nbformat_minor": 5
}
